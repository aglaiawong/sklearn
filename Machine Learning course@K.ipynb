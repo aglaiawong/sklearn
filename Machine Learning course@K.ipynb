{
  "cells": [
    {
      "metadata": {
        "_uuid": "b6269c0e8f417f82daf093dda8fa0da6d2c57d86",
        "_cell_guid": "e81ee64d-e474-4662-9036-ce23df615199"
      },
      "cell_type": "markdown",
      "source": "# Machine Learning course@K"
    },
    {
      "metadata": {
        "_uuid": "1c728098629e1301643443b1341556a15c089b2b",
        "_cell_guid": "86b26423-563a-4fa1-a595-89e25ff93089",
        "trusted": true,
        "scrolled": true
      },
      "cell_type": "code",
      "source": "import pandas as pd\n\nmain_file_path = '../input/house-prices-advanced-regression-techniques/train.csv' # this is the path to the Iowa data that you will use\ndata = pd.read_csv(main_file_path)\n\n# Run this code block with the control-enter keys on your keyboard. Or click the blue botton on the left\n#print('Some output from running this cell')\n\nprint(data.describe())",
      "execution_count": 3,
      "outputs": [
        {
          "output_type": "stream",
          "text": "                Id   MSSubClass      ...             YrSold      SalePrice\ncount  1460.000000  1460.000000      ...        1460.000000    1460.000000\nmean    730.500000    56.897260      ...        2007.815753  180921.195890\nstd     421.610009    42.300571      ...           1.328095   79442.502883\nmin       1.000000    20.000000      ...        2006.000000   34900.000000\n25%     365.750000    20.000000      ...        2007.000000  129975.000000\n50%     730.500000    50.000000      ...        2008.000000  163000.000000\n75%    1095.250000    70.000000      ...        2009.000000  214000.000000\nmax    1460.000000   190.000000      ...        2010.000000  755000.000000\n\n[8 rows x 38 columns]\n",
          "name": "stdout"
        }
      ]
    },
    {
      "metadata": {
        "_uuid": "8be5eb1e82f0a41e6c1417ddb896a18129ee176f"
      },
      "cell_type": "markdown",
      "source": "+ above we observe col[0] can be formula to applied!"
    },
    {
      "metadata": {
        "_uuid": "99ff27ed15b2717a3dcd39517a621b5e693b8b71"
      },
      "cell_type": "markdown",
      "source": "## Show all columns' name"
    },
    {
      "metadata": {
        "_uuid": "cb93da683dbb983d1824913fe7ee3b9f6b798246"
      },
      "cell_type": "markdown",
      "source": "+ By: columns property of the DataFrame "
    },
    {
      "metadata": {
        "trusted": true,
        "_uuid": "28e95ce2fccbf55623d473208879e48fe1137313"
      },
      "cell_type": "code",
      "source": "print(data.columns)",
      "execution_count": 4,
      "outputs": [
        {
          "output_type": "stream",
          "text": "Index(['Id', 'MSSubClass', 'MSZoning', 'LotFrontage', 'LotArea', 'Street',\n       'Alley', 'LotShape', 'LandContour', 'Utilities', 'LotConfig',\n       'LandSlope', 'Neighborhood', 'Condition1', 'Condition2', 'BldgType',\n       'HouseStyle', 'OverallQual', 'OverallCond', 'YearBuilt', 'YearRemodAdd',\n       'RoofStyle', 'RoofMatl', 'Exterior1st', 'Exterior2nd', 'MasVnrType',\n       'MasVnrArea', 'ExterQual', 'ExterCond', 'Foundation', 'BsmtQual',\n       'BsmtCond', 'BsmtExposure', 'BsmtFinType1', 'BsmtFinSF1',\n       'BsmtFinType2', 'BsmtFinSF2', 'BsmtUnfSF', 'TotalBsmtSF', 'Heating',\n       'HeatingQC', 'CentralAir', 'Electrical', '1stFlrSF', '2ndFlrSF',\n       'LowQualFinSF', 'GrLivArea', 'BsmtFullBath', 'BsmtHalfBath', 'FullBath',\n       'HalfBath', 'BedroomAbvGr', 'KitchenAbvGr', 'KitchenQual',\n       'TotRmsAbvGrd', 'Functional', 'Fireplaces', 'FireplaceQu', 'GarageType',\n       'GarageYrBlt', 'GarageFinish', 'GarageCars', 'GarageArea', 'GarageQual',\n       'GarageCond', 'PavedDrive', 'WoodDeckSF', 'OpenPorchSF',\n       'EnclosedPorch', '3SsnPorch', 'ScreenPorch', 'PoolArea', 'PoolQC',\n       'Fence', 'MiscFeature', 'MiscVal', 'MoSold', 'YrSold', 'SaleType',\n       'SaleCondition', 'SalePrice'],\n      dtype='object')\n",
          "name": "stdout"
        }
      ]
    },
    {
      "metadata": {
        "_uuid": "0b99df85f5846c685023f7d3b73d3b4f51f6f2b5"
      },
      "cell_type": "markdown",
      "source": "## Select a column\n+ pull out a col by **dot-notation** on data\n+ input: dataset from panda csv\n+ output: **a Series** (i.e. a dataframe with 1 column, ~vector)"
    },
    {
      "metadata": {
        "trusted": true,
        "scrolled": true,
        "_uuid": "cb56c3ed0de1f4f8a801069712c69e97f2d91b03"
      },
      "cell_type": "code",
      "source": "data2 = data.SaleCondition\nprint(data2.head())    #head must be a function, not dot-notataed",
      "execution_count": 5,
      "outputs": [
        {
          "output_type": "stream",
          "text": "0     Normal\n1     Normal\n2     Normal\n3    Abnorml\n4     Normal\nName: SaleCondition, dtype: object\n",
          "name": "stdout"
        }
      ]
    },
    {
      "metadata": {
        "_uuid": "1323e3d7a86af95df27a5149354489e6fbdba750"
      },
      "cell_type": "markdown",
      "source": "## Select multiple columns"
    },
    {
      "metadata": {
        "trusted": true,
        "_uuid": "51c4f630f59902e8a6f0af41e681ccfe7de2ff12"
      },
      "cell_type": "code",
      "source": "col_of_interest = ['LotArea', 'SalePrice']\ntwo_col_of_data = data[col_of_interest]   #pd: allow index be a list of col names\ntwo_col_of_data.describe()  # describe(): form a table",
      "execution_count": 13,
      "outputs": [
        {
          "output_type": "execute_result",
          "execution_count": 13,
          "data": {
            "text/plain": "             LotArea      SalePrice\ncount    1460.000000    1460.000000\nmean    10516.828082  180921.195890\nstd      9981.264932   79442.502883\nmin      1300.000000   34900.000000\n25%      7553.500000  129975.000000\n50%      9478.500000  163000.000000\n75%     11601.500000  214000.000000\nmax    215245.000000  755000.000000",
            "text/html": "<div>\n<style scoped>\n    .dataframe tbody tr th:only-of-type {\n        vertical-align: middle;\n    }\n\n    .dataframe tbody tr th {\n        vertical-align: top;\n    }\n\n    .dataframe thead th {\n        text-align: right;\n    }\n</style>\n<table border=\"1\" class=\"dataframe\">\n  <thead>\n    <tr style=\"text-align: right;\">\n      <th></th>\n      <th>LotArea</th>\n      <th>SalePrice</th>\n    </tr>\n  </thead>\n  <tbody>\n    <tr>\n      <th>count</th>\n      <td>1460.000000</td>\n      <td>1460.000000</td>\n    </tr>\n    <tr>\n      <th>mean</th>\n      <td>10516.828082</td>\n      <td>180921.195890</td>\n    </tr>\n    <tr>\n      <th>std</th>\n      <td>9981.264932</td>\n      <td>79442.502883</td>\n    </tr>\n    <tr>\n      <th>min</th>\n      <td>1300.000000</td>\n      <td>34900.000000</td>\n    </tr>\n    <tr>\n      <th>25%</th>\n      <td>7553.500000</td>\n      <td>129975.000000</td>\n    </tr>\n    <tr>\n      <th>50%</th>\n      <td>9478.500000</td>\n      <td>163000.000000</td>\n    </tr>\n    <tr>\n      <th>75%</th>\n      <td>11601.500000</td>\n      <td>214000.000000</td>\n    </tr>\n    <tr>\n      <th>max</th>\n      <td>215245.000000</td>\n      <td>755000.000000</td>\n    </tr>\n  </tbody>\n</table>\n</div>"
          },
          "metadata": {}
        }
      ]
    },
    {
      "metadata": {
        "_uuid": "b62034fca319f18e068de1cb97d58fc95f376bb0"
      },
      "cell_type": "markdown",
      "source": "## Build a model: DecisionTreeRegressor"
    },
    {
      "metadata": {
        "trusted": true,
        "_uuid": "16e33ea2b8bd1c228845e01efe8f644079d8476b"
      },
      "cell_type": "code",
      "source": "data3 = ['Condition1', 'Condition2']\ndata3 = data[data3]\ndata3.describe()",
      "execution_count": 20,
      "outputs": [
        {
          "output_type": "execute_result",
          "execution_count": 20,
          "data": {
            "text/plain": "       Condition1 Condition2\ncount        1460       1460\nunique          9          8\ntop          Norm       Norm\nfreq         1260       1445",
            "text/html": "<div>\n<style scoped>\n    .dataframe tbody tr th:only-of-type {\n        vertical-align: middle;\n    }\n\n    .dataframe tbody tr th {\n        vertical-align: top;\n    }\n\n    .dataframe thead th {\n        text-align: right;\n    }\n</style>\n<table border=\"1\" class=\"dataframe\">\n  <thead>\n    <tr style=\"text-align: right;\">\n      <th></th>\n      <th>Condition1</th>\n      <th>Condition2</th>\n    </tr>\n  </thead>\n  <tbody>\n    <tr>\n      <th>count</th>\n      <td>1460</td>\n      <td>1460</td>\n    </tr>\n    <tr>\n      <th>unique</th>\n      <td>9</td>\n      <td>8</td>\n    </tr>\n    <tr>\n      <th>top</th>\n      <td>Norm</td>\n      <td>Norm</td>\n    </tr>\n    <tr>\n      <th>freq</th>\n      <td>1260</td>\n      <td>1445</td>\n    </tr>\n  </tbody>\n</table>\n</div>"
          },
          "metadata": {}
        }
      ]
    },
    {
      "metadata": {
        "trusted": true,
        "_uuid": "aa15560fdf24e7e934e81c0325d10ba553cdfd39"
      },
      "cell_type": "code",
      "source": "y = data.SalePrice\ny.describe()",
      "execution_count": 39,
      "outputs": [
        {
          "output_type": "execute_result",
          "execution_count": 39,
          "data": {
            "text/plain": "count      1460.000000\nmean     180921.195890\nstd       79442.502883\nmin       34900.000000\n25%      129975.000000\n50%      163000.000000\n75%      214000.000000\nmax      755000.000000\nName: SalePrice, dtype: float64"
          },
          "metadata": {}
        }
      ]
    },
    {
      "metadata": {
        "trusted": true,
        "_uuid": "7989dd1ecc4bbd7cb4042d2d916fed218044acb6",
        "collapsed": true
      },
      "cell_type": "code",
      "source": "# Step1: choose the prediction target\ny = data.SalePrice   # select mean,std,min,quartiles,max of 'SP' col\n\n# Step2: choose predicators\n\n# predicators = ['YearBuilt', 'Condition1', 'Condition2']\n# predicators error: cannot convert string to float\n# You have categorical data, but your model needs something numerical. \n# See our one hot encoding tutorial for a solution.\n\n# 2 steps building your input data\npredicators = ['YearBuilt', 'LotArea', 'YrSold']  #specify the column\nX = data[predicators]   #extract data accord. cols selected above",
      "execution_count": 34,
      "outputs": []
    },
    {
      "metadata": {
        "_uuid": "497800530b252a80bcbc58aa8169b761ba2863e0"
      },
      "cell_type": "markdown",
      "source": "### <span style=\"color:red\"> !! the predicator can be categorial instead of numberic </span>\n+ how can we turn categorial data into numeric data, so as to feed into model?\n+ see **one-hot encoding** tutorial"
    },
    {
      "metadata": {
        "trusted": true,
        "_uuid": "056e7e9ba1fcde2a320173c223f92aa6c555175d"
      },
      "cell_type": "code",
      "source": "from sklearn.tree import DecisionTreeRegressor\n# Define model\nmodel = DecisionTreeRegressor()   #Decision Tree with continuous decision \nmodel.fit(X,y)",
      "execution_count": 35,
      "outputs": [
        {
          "output_type": "execute_result",
          "execution_count": 35,
          "data": {
            "text/plain": "DecisionTreeRegressor(criterion='mse', max_depth=None, max_features=None,\n           max_leaf_nodes=None, min_impurity_decrease=0.0,\n           min_impurity_split=None, min_samples_leaf=1,\n           min_samples_split=2, min_weight_fraction_leaf=0.0,\n           presort=False, random_state=None, splitter='best')"
          },
          "metadata": {}
        }
      ]
    },
    {
      "metadata": {
        "trusted": true,
        "_uuid": "ec9b58c61f187a6b9b9a038d4ce0efda7a137bed"
      },
      "cell_type": "code",
      "source": "print(\"Making predictions for the following 5 houses:\")\nprint(X.head())  #col: YearBuilt, LotArea and YrSold\nprint(\"The predictions are\")\nprint(model.predict(X.head()))",
      "execution_count": 37,
      "outputs": [
        {
          "output_type": "stream",
          "text": "Making predictions for the following 5 houses:\n   YearBuilt  LotArea  YrSold\n0       2003     8450    2008\n1       1976     9600    2007\n2       2001    11250    2008\n3       1915     9550    2006\n4       2000    14260    2008\nThe predictions are\n[ 208500.  184250.  223500.  140000.  250000.]\n",
          "name": "stdout"
        }
      ]
    },
    {
      "metadata": {
        "_uuid": "f170b1396f21afd3eee21be22b4a4c1370535bf0"
      },
      "cell_type": "markdown",
      "source": "# Training Summary\n+ load data: by selecting a column or multiple columns\n+ intialize X,y likewise\n+ choose the estimator for the model\n+ train the model by calling fit()\n+ call predict() on new samples \n"
    },
    {
      "metadata": {
        "_uuid": "56ce64ec40fae5536272f6abcfdef183ec0b4ab7"
      },
      "cell_type": "markdown",
      "source": "## Model Validation: Mean Absolute Error"
    },
    {
      "metadata": {
        "trusted": true,
        "_uuid": "0a6e717ff48629523978260069b4f8e223a099ea"
      },
      "cell_type": "code",
      "source": "# visualize the data\nprint(X)   #show the entire table\nprint(X.columns.size)  #show number of columns\n# print(X.rows.size)   #non-exist\nprint(X.size)    #row*col\nprint(X.shape)   #(row, col) tuple",
      "execution_count": 48,
      "outputs": [
        {
          "output_type": "stream",
          "text": "      YearBuilt  LotArea  YrSold\n0          2003     8450    2008\n1          1976     9600    2007\n2          2001    11250    2008\n3          1915     9550    2006\n4          2000    14260    2008\n5          1993    14115    2009\n6          2004    10084    2007\n7          1973    10382    2009\n8          1931     6120    2008\n9          1939     7420    2008\n10         1965    11200    2008\n11         2005    11924    2006\n12         1962    12968    2008\n13         2006    10652    2007\n14         1960    10920    2008\n15         1929     6120    2007\n16         1970    11241    2010\n17         1967    10791    2006\n18         2004    13695    2008\n19         1958     7560    2009\n20         2005    14215    2006\n21         1930     7449    2007\n22         2002     9742    2008\n23         1976     4224    2007\n24         1968     8246    2010\n25         2007    14230    2009\n26         1951     7200    2010\n27         2007    11478    2010\n28         1957    16321    2006\n29         1927     6324    2008\n...         ...      ...     ...\n1430       2005    21930    2006\n1431       1976     4928    2009\n1432       1927    10800    2007\n1433       2000    10261    2008\n1434       1977    17400    2006\n1435       1962     8400    2008\n1436       1971     9000    2007\n1437       2008    12444    2008\n1438       1957     7407    2010\n1439       1979    11584    2007\n1440       1922    11526    2008\n1441       2004     4426    2008\n1442       2008    11003    2009\n1443       1916     8854    2009\n1444       2004     8500    2007\n1445       1966     8400    2007\n1446       1962    26142    2010\n1447       1995    10000    2007\n1448       1910    11767    2007\n1449       1970     1533    2006\n1450       1974     9000    2009\n1451       2008     9262    2009\n1452       2005     3675    2006\n1453       2006    17217    2006\n1454       2004     7500    2009\n1455       1999     7917    2007\n1456       1978    13175    2010\n1457       1941     9042    2010\n1458       1950     9717    2010\n1459       1965     9937    2008\n\n[1460 rows x 3 columns]\n3\n4380\n(1460, 3)\n",
          "name": "stdout"
        }
      ]
    },
    {
      "metadata": {
        "trusted": true,
        "_uuid": "f86124b08461f932fd4fa490682d3c0cb1099283"
      },
      "cell_type": "code",
      "source": "from sklearn.metrics import mean_absolute_error\n\npredicted = model.predict(X)\nmean_absolute_error(y, predicted)",
      "execution_count": 41,
      "outputs": [
        {
          "output_type": "execute_result",
          "execution_count": 41,
          "data": {
            "text/plain": "308.28013698630139"
          },
          "metadata": {}
        }
      ]
    },
    {
      "metadata": {
        "_uuid": "5eec2b42ceec40296f53d71e33fa993e9f24533e"
      },
      "cell_type": "markdown",
      "source": "## Side-notes\n+ predictor list determines which data field is used for the prediction\n+ predictor bears **No** responsibility for relation between itself and the prediction\n+ E.g. Color of house actually bears no relation to the prediction of Sales Price, but it's picked as parameter for the model; \n+ Example above is dangerous: model may work well in this particular data set, but does poorly in prediction of new samples, yielding high test error. (Given this parameter intrinsically bears no relation with sale price)."
    },
    {
      "metadata": {
        "_uuid": "984555af80b4d74fbaea95cf1c198b44e0b12d44"
      },
      "cell_type": "markdown",
      "source": "## Model Testing: Validation data\n* the true power of a model lies on its predictive power, not the fitting power to the current dataset"
    },
    {
      "metadata": {
        "trusted": true,
        "_uuid": "0a5451c922ab8cdf38c643b16652e50c946c20c4"
      },
      "cell_type": "code",
      "source": "from sklearn.model_selection import train_test_split\ntrain_X, test_X, train_y, test_y = train_test_split(X,y,test_size=0.2,random_state=0)\n# train_test_split(): return diff data in sequence\n# only 20% of dataset used as testing set\n# random_state: use 0 as the seed to randomize sample selection\nmodel.fit(train_X, train_y)\n#In the following, use the reserved 20%\nval_predictions = model.predict(test_X)  \nprint(mean_absolute_error(test_y, val_predictions))",
      "execution_count": 51,
      "outputs": [
        {
          "output_type": "stream",
          "text": "49765.7374429\n",
          "name": "stdout"
        }
      ]
    },
    {
      "metadata": {
        "_uuid": "39d7c491cb20d055e0af4d02dba38c4f83d63d48"
      },
      "cell_type": "markdown",
      "source": ""
    },
    {
      "metadata": {
        "_uuid": "c29f764a9f98cc74cec3c3944224cd9e12dd75de"
      },
      "cell_type": "markdown",
      "source": ""
    },
    {
      "metadata": {
        "_uuid": "638cce4887d85884fe280f96473fdc103cd1eb1c"
      },
      "cell_type": "markdown",
      "source": ""
    }
  ],
  "metadata": {
    "language_info": {
      "name": "python",
      "version": "3.6.5",
      "mimetype": "text/x-python",
      "codemirror_mode": {
        "name": "ipython",
        "version": 3
      },
      "pygments_lexer": "ipython3",
      "nbconvert_exporter": "python",
      "file_extension": ".py"
    },
    "kernelspec": {
      "display_name": "Python 3",
      "language": "python",
      "name": "python3"
    }
  },
  "nbformat": 4,
  "nbformat_minor": 1
}